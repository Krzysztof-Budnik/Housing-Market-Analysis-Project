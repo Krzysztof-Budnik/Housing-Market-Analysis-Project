{
 "cells": [
  {
   "cell_type": "markdown",
   "metadata": {},
   "source": [
    "# **Housing Market Analysis**\n",
    "By Krzysztof Budnik\n",
    "\n",
    "\n",
    "#### **Project overview**: \n",
    "Project's main goal is to run complex analysis to investigate key factors influencing the property prices in Gdańsk. <br />\n",
    "<br />\n",
    "The analysis document is split into several parts that include:\n",
    "- **Data aquisition** (building custom web scraping solution to source high quality and real data)\n",
    "- **Importing data** (gathering and transforming csv files into pandas dataframe)\n",
    "- **Exploratory data analysis** (process of discovering the structure of data and its patterns)\n",
    "- **Data Cleaning** (reformating the columns allowing mathematical operations, increasing readability and setting assumptions)\n",
    "- **General Analysis** (discovering the distribution of property prices, influence of districts on price)\n",
    "- **Qualitative Analysis** (how particular features impact the price, and how often they appear in offer listings)\n",
    "- **Regression model** (evaluating how each feature impacts the price)\n",
    "\n",
    "\n"
   ]
  },
  {
   "cell_type": "markdown",
   "metadata": {},
   "source": [
    "## **Importing modules**\n",
    "\n",
    "In the very first step of the process I'm importing the necessary modules for analysis and data aqusition.  "
   ]
  },
  {
   "cell_type": "code",
   "execution_count": 20,
   "metadata": {},
   "outputs": [],
   "source": [
    "# webscrapper \n",
    "import webscraper_functions as wf\n",
    "from webscraper_elements import SearchCriteria, MarketType, get_url_list\n",
    "from csv import writer\n",
    "\n",
    "# data analysis\n",
    "import pandas as pd \n",
    "import numpy as np\n",
    "\n",
    "# data vizualizations\n",
    "import plotly.express as px\n",
    "import matplotlib.pyplot as plt\n",
    "import seaborn as sns\n",
    "\n",
    "# regression model\n",
    "from sklearn.model_selection import train_test_split\n",
    "from sklearn.linear_model import LinearRegression"
   ]
  },
  {
   "cell_type": "markdown",
   "metadata": {},
   "source": [
    "## **Data aquisition**\n",
    "\n",
    "I have designed dedicated web scraper programme to collect housing data directly from otodom.pl website. <br />\n",
    "Programme has great amount of flexibility, allowing users to modify the search criteria <br />\n",
    "and the size of downloaded datasets. Individual offer data is saved as record in CSV file. <br />\n",
    "<br />\n",
    "**Important Note**: Please do not run this cell unless you want to download the data. "
   ]
  },
  {
   "cell_type": "code",
   "execution_count": 80,
   "metadata": {},
   "outputs": [],
   "source": [
    "# Choosing file name\n",
    "file_name = \"TEST.csv\"\n",
    "\n",
    "with open(file_name, 'w', encoding='utf8', newline='') as f:\n",
    "    thewriter = writer(f)\n",
    "\n",
    "    header = [\"id\", \"title\", \"price\", \"city\", \"district\", \"street\", \n",
    "                      \"area\", \"rooms\", \"rent\", \"floor\", \"year\", \n",
    "                      \"balcony\", \"garage\", \"elevator\", \"furnishing\", \"extra_info\",\n",
    "                      \"seller_type\", \"market\", \"ownership\"]\n",
    "    thewriter.writerow(header)\n",
    "    \n",
    "    # Defining search criteria\n",
    "    search = SearchCriteria(\n",
    "        market_type = MarketType.SECONDARY, \n",
    "        city = \"gdansk\", \n",
    "        limit = 72\n",
    "    )\n",
    "    \n",
    "    # dataset size: (limit + 3) * num_of_pages\n",
    "    # here: (72 + 3) * 10 = 750\n",
    "    page_list = get_url_list(search, num_of_pages=10)\n",
    "    \n",
    "    for url in page_list:\n",
    "        listings = wf.page_offer_list(url)\n",
    "        for offer in listings:\n",
    "            # main + location info\n",
    "            main_info = wf.main_info(offer)\n",
    "            location_info = wf.location_info(offer)\n",
    "\n",
    "            # offer link + id \n",
    "            offer_url = wf.offer_url_generator(offer)\n",
    "            offer_id = wf.offer_id_generator(offer_url)\n",
    "\n",
    "            # accessing detailed offer data\n",
    "            offer_soup = wf. offer_page_content(offer_url)\n",
    "            detailed_info = wf.detailed_info(offer_soup)\n",
    "\n",
    "            # all info\n",
    "            all_info = wf.gather_offer_data(main_info, location_info, detailed_info, offer_id)\n",
    "\n",
    "            # add data to csv\n",
    "            thewriter.writerow(all_info)"
   ]
  },
  {
   "cell_type": "markdown",
   "metadata": {},
   "source": [
    "## **Importing data**\n",
    "\n",
    "In this step I'm converting CSV files into pandas dataframes. <br /> \n",
    "<br />\n",
    "Both datasets store filtered data from Gdańsk. <br />\n",
    "`primary` includes offers from primary market and `secondary` includes offers from secondary market  <br />\n",
    "<br />\n",
    "**Important Note**: Significant portion of the offers in `primary` didn't contain the information about price. <br />\n",
    "Since this is one of the most important parameters, I have decided to exclude these records. <br />\n",
    "<br />\n",
    "`alldata` combines `dprimary` and `dsecondary`"
   ]
  },
  {
   "cell_type": "code",
   "execution_count": 21,
   "metadata": {},
   "outputs": [
    {
     "name": "stdout",
     "output_type": "stream",
     "text": [
      "primary: 444\n",
      "secondary: 750\n",
      "alldata: 1194\n"
     ]
    }
   ],
   "source": [
    "primary = pd.read_csv(\"hdata_primary.csv\")\n",
    "primary = primary[primary.price != \"Zapytaj o cenę\"]\n",
    "\n",
    "secondary = pd.read_csv(\"hdata_secondarymarket.csv\")\n",
    "\n",
    "alldata = pd.concat([primary, secondary]).reset_index()\n",
    "\n",
    "# Checking the number of records in each dataset\n",
    "print(f\"primary: {len(primary)}\",\n",
    "      f\"secondary: {len(secondary)}\",\n",
    "      f\"alldata: {len(alldata)}\",\n",
    "      sep = \"\\n\")"
   ]
  },
  {
   "cell_type": "markdown",
   "metadata": {},
   "source": [
    "## **Exploratory data analysis**\n",
    "\n",
    "The main goal of EDA phase is to learn the structre of the data. Furthermore, this is also a great <br /> \n",
    "opportunity to discover any inconsistencies or missing valus across the dataset. <br /> \n",
    "<br /> \n",
    "\n",
    "At the beginning, I will investigate the first three rows of `alldata` dataset."
   ]
  },
  {
   "cell_type": "code",
   "execution_count": 22,
   "metadata": {},
   "outputs": [
    {
     "data": {
      "text/html": [
       "<div>\n",
       "<style scoped>\n",
       "    .dataframe tbody tr th:only-of-type {\n",
       "        vertical-align: middle;\n",
       "    }\n",
       "\n",
       "    .dataframe tbody tr th {\n",
       "        vertical-align: top;\n",
       "    }\n",
       "\n",
       "    .dataframe thead th {\n",
       "        text-align: right;\n",
       "    }\n",
       "</style>\n",
       "<table border=\"1\" class=\"dataframe\">\n",
       "  <thead>\n",
       "    <tr style=\"text-align: right;\">\n",
       "      <th></th>\n",
       "      <th>index</th>\n",
       "      <th>id</th>\n",
       "      <th>title</th>\n",
       "      <th>price</th>\n",
       "      <th>city</th>\n",
       "      <th>district</th>\n",
       "      <th>street</th>\n",
       "      <th>area</th>\n",
       "      <th>rooms</th>\n",
       "      <th>rent</th>\n",
       "      <th>floor</th>\n",
       "      <th>year</th>\n",
       "      <th>balcony</th>\n",
       "      <th>garage</th>\n",
       "      <th>elevator</th>\n",
       "      <th>furnishing</th>\n",
       "      <th>extra_info</th>\n",
       "      <th>seller_type</th>\n",
       "      <th>market</th>\n",
       "      <th>ownership</th>\n",
       "    </tr>\n",
       "  </thead>\n",
       "  <tbody>\n",
       "    <tr>\n",
       "      <th>0</th>\n",
       "      <td>0</td>\n",
       "      <td>ID4g5qm</td>\n",
       "      <td>Apartament 4 pokojowy, blisko morza</td>\n",
       "      <td>767 018 zł</td>\n",
       "      <td>Gdańsk</td>\n",
       "      <td>Letnica</td>\n",
       "      <td>NaN</td>\n",
       "      <td>75,22 m²</td>\n",
       "      <td>4.0</td>\n",
       "      <td>zapytaj</td>\n",
       "      <td>2/6</td>\n",
       "      <td>NaN</td>\n",
       "      <td>zapytaj</td>\n",
       "      <td>zapytaj</td>\n",
       "      <td>nie</td>\n",
       "      <td>NaN</td>\n",
       "      <td>NaN</td>\n",
       "      <td>biuro nieruchomości</td>\n",
       "      <td>pierwotny</td>\n",
       "      <td>zapytaj</td>\n",
       "    </tr>\n",
       "    <tr>\n",
       "      <th>1</th>\n",
       "      <td>1</td>\n",
       "      <td>ID4gh74</td>\n",
       "      <td>Gdańsk Osowa Seleny nowe wygodne mieszkanie</td>\n",
       "      <td>749 000 zł</td>\n",
       "      <td>Gdańsk</td>\n",
       "      <td>Osowa</td>\n",
       "      <td>ul. Seleny</td>\n",
       "      <td>122 m²</td>\n",
       "      <td>6.0</td>\n",
       "      <td>zapytaj</td>\n",
       "      <td>1/1</td>\n",
       "      <td>NaN</td>\n",
       "      <td>taras</td>\n",
       "      <td>garaż/miejsce parkingowe</td>\n",
       "      <td>nie</td>\n",
       "      <td>NaN</td>\n",
       "      <td>oddzielna kuchnia, dwupoziomowe</td>\n",
       "      <td>prywatny</td>\n",
       "      <td>pierwotny</td>\n",
       "      <td>zapytaj</td>\n",
       "    </tr>\n",
       "    <tr>\n",
       "      <th>2</th>\n",
       "      <td>3</td>\n",
       "      <td>ID4e9AW</td>\n",
       "      <td>5-pokojowe mieszkanie 91m2 + balkon Bezpośrednio</td>\n",
       "      <td>929 220 zł</td>\n",
       "      <td>Gdańsk</td>\n",
       "      <td>Ujeścisko-Łostowice</td>\n",
       "      <td>NaN</td>\n",
       "      <td>91,1 m²</td>\n",
       "      <td>5.0</td>\n",
       "      <td>zapytaj</td>\n",
       "      <td>2/4</td>\n",
       "      <td>NaN</td>\n",
       "      <td>balkon</td>\n",
       "      <td>garaż/miejsce parkingowe</td>\n",
       "      <td>NaN</td>\n",
       "      <td>NaN</td>\n",
       "      <td>NaN</td>\n",
       "      <td>NaN</td>\n",
       "      <td>NaN</td>\n",
       "      <td>pełna własność</td>\n",
       "    </tr>\n",
       "  </tbody>\n",
       "</table>\n",
       "</div>"
      ],
      "text/plain": [
       "   index       id                                             title  \\\n",
       "0      0  ID4g5qm               Apartament 4 pokojowy, blisko morza   \n",
       "1      1  ID4gh74       Gdańsk Osowa Seleny nowe wygodne mieszkanie   \n",
       "2      3  ID4e9AW  5-pokojowe mieszkanie 91m2 + balkon Bezpośrednio   \n",
       "\n",
       "        price    city             district      street      area rooms  \\\n",
       "0  767 018 zł  Gdańsk              Letnica         NaN  75,22 m²   4.0   \n",
       "1  749 000 zł  Gdańsk                Osowa  ul. Seleny    122 m²   6.0   \n",
       "2  929 220 zł  Gdańsk  Ujeścisko-Łostowice         NaN   91,1 m²   5.0   \n",
       "\n",
       "      rent floor  year  balcony                    garage elevator furnishing  \\\n",
       "0  zapytaj   2/6   NaN  zapytaj                   zapytaj      nie        NaN   \n",
       "1  zapytaj   1/1   NaN    taras  garaż/miejsce parkingowe      nie        NaN   \n",
       "2  zapytaj   2/4   NaN   balkon  garaż/miejsce parkingowe      NaN        NaN   \n",
       "\n",
       "                        extra_info           seller_type     market  \\\n",
       "0                              NaN  biuro nieruchomości   pierwotny   \n",
       "1  oddzielna kuchnia, dwupoziomowe              prywatny  pierwotny   \n",
       "2                              NaN                   NaN        NaN   \n",
       "\n",
       "        ownership  \n",
       "0         zapytaj  \n",
       "1         zapytaj  \n",
       "2  pełna własność  "
      ]
     },
     "execution_count": 22,
     "metadata": {},
     "output_type": "execute_result"
    }
   ],
   "source": [
    "alldata.head(3)"
   ]
  },
  {
   "cell_type": "markdown",
   "metadata": {},
   "source": [
    "#### **Checking column data types** \n",
    "\n",
    "As we can see above, our data is likely to have a few limitations. We can already notice that the price is probably <br />\n",
    "in a string format (currency is the part of the value). Moreover there are some missing values in many columns. <br />\n",
    "<br />\n",
    "To ensure the data is consistent I'm going to check the data dypes and unique values <br />\n",
    "for each relevant column (I will exclude columns such as `title` or `id` since they are not going to be a part of analysis)"
   ]
  },
  {
   "cell_type": "code",
   "execution_count": 23,
   "metadata": {},
   "outputs": [
    {
     "data": {
      "text/plain": [
       "price           object\n",
       "city            object\n",
       "district        object\n",
       "street          object\n",
       "area            object\n",
       "rooms           object\n",
       "rent            object\n",
       "floor           object\n",
       "year           float64\n",
       "balcony         object\n",
       "garage          object\n",
       "elevator        object\n",
       "furnishing      object\n",
       "extra_info      object\n",
       "seller_type     object\n",
       "market          object\n",
       "ownership       object\n",
       "dtype: object"
      ]
     },
     "execution_count": 23,
     "metadata": {},
     "output_type": "execute_result"
    }
   ],
   "source": [
    "alldata.drop(labels = [\"index\", \"id\", \"title\"], axis = 1, inplace =  True)\n",
    "alldata.dtypes  "
   ]
  },
  {
   "cell_type": "markdown",
   "metadata": {},
   "source": [
    "#### **Exploring unique values**\n",
    "\n",
    "Colums that are supposed to have numerical values  (`price`, `area`, `rooms`, `year`) are not formated as floats or strings. <br />\n",
    "<br />\n",
    "In the next code cell I'm going to check unique values for each column. Iterating over the loop is an efficent method to <br />\n",
    "quickly see all the values and catch error."
   ]
  },
  {
   "cell_type": "code",
   "execution_count": 24,
   "metadata": {},
   "outputs": [
    {
     "name": "stdout",
     "output_type": "stream",
     "text": [
      "PRICE\n",
      "['767\\xa0018\\xa0zł' '749\\xa0000\\xa0zł' '929\\xa0220\\xa0zł'\n",
      " '669\\xa0000\\xa0zł' '825\\xa0428\\xa0zł' '750\\xa0088\\xa0zł'\n",
      " '450\\xa0000\\xa0zł' '923\\xa0247\\xa0zł' '1\\xa0028\\xa0761\\xa0zł'\n",
      " '649\\xa0000\\xa0zł']\n",
      "CITY\n",
      "['Gdańsk' 'HORIZON' 'płk. Kazimierza Leskiego' 'ul. Angielska Grobla'\n",
      " 'Edwarda Stachury' 'ul. Pastelowa' 'Tysiąclecia'\n",
      " 'ul. Władysława Jagiełły 2']\n",
      "DISTRICT\n",
      "['Letnica' 'Osowa' 'Ujeścisko-Łostowice' 'Kokoszki' 'Siedlce' 'pomorskie'\n",
      " 'Jasień' 'Wrzeszcz' 'Chełm' 'Młyniska']\n",
      "STREET\n",
      "[nan 'ul. Seleny' 'ul. Konrada Guderskiego' 'ul. Diany' 'ul. Warszawska'\n",
      " 'Łostowice' 'ul. Kartuska 420B' 'Matemblewo' 'Jasińskiego'\n",
      " 'ul. Starowiejska']\n",
      "AREA\n",
      "['75,22 m²' '122 m²' '91,1 m²' '89,72 m²' '74,93 m²' '72,81 m²' '89,7 m²'\n",
      " '52,95 m²' '52,88 m²' '75,21 m²']\n",
      "ROOMS\n",
      "[4.0 6.0 5.0 3.0 2.0 1.0 '2 ' '3 ' '5 ' '1 ']\n",
      "RENT\n",
      "['zapytaj' '480 zł' '184 zł' '250 zł' '500 zł' '8 zł' '300 zł' '900 zł'\n",
      " '800 zł' '280 zł']\n",
      "FLOOR\n",
      "['2/6' '1/1' '2/4' 'parter/1' 'parter/4' '3/4' '1/3' '1/2' 'parter/2'\n",
      " '4/4']\n",
      "YEAR\n",
      "[  nan 2021. 1950. 1980. 1975. 2015. 2008. 2009. 2011. 2007.]\n",
      "BALCONY\n",
      "['zapytaj' 'taras' 'balkon' 'taras, ogródek' 'balkon, ogródek' 'ogródek'\n",
      " 'balkon, taras' 'ogródek, taras' 'balkon, ogródek, taras']\n",
      "GARAGE\n",
      "['zapytaj' 'garaż/miejsce parkingowe']\n",
      "ELEVATOR\n",
      "['nie' nan 'tak']\n",
      "FURNISHING\n",
      "[nan 'zmywarka, lodówka, meble, piekarnik, kuchenka'\n",
      " 'zmywarka, lodówka, piekarnik, kuchenka, telewizor, pralka'\n",
      " 'meble, piekarnik' 'zmywarka, meble'\n",
      " 'zmywarka, lodówka, meble, piekarnik, kuchenka, telewizor, pralka'\n",
      " 'lodówka, meble, piekarnik, kuchenka, telewizor, pralka'\n",
      " 'lodówka, meble, piekarnik, kuchenka, pralka' 'zmywarka, lodówka, meble'\n",
      " 'meble']\n",
      "EXTRA_INFO\n",
      "[nan 'oddzielna kuchnia, dwupoziomowe' 'piwnica' 'pom. użytkowe'\n",
      " 'piwnica, pom. użytkowe' 'piwnica, oddzielna kuchnia, pom. użytkowe'\n",
      " 'oddzielna kuchnia' 'oddzielna kuchnia, pom. użytkowe'\n",
      " 'dwupoziomowe, pom. użytkowe' 'piwnica, oddzielna kuchnia']\n",
      "SELLER_TYPE\n",
      "['biuro nieruchomości ' 'prywatny' nan 'deweloper']\n",
      "MARKET\n",
      "['pierwotny' nan 'wtórny']\n",
      "OWNERSHIP\n",
      "['zapytaj' 'pełna własność' 'spółdzielcze wł. z KW'\n",
      " 'spółdzielcze własnościowe' 'udział']\n"
     ]
    }
   ],
   "source": [
    "unique_values_dict = {}\n",
    "\n",
    "\"\"\"Building dictionary to store column names and coresponding unique values.\"\"\"\n",
    "for column in alldata.columns:\n",
    "    unique_values_dict[column] = alldata[column].unique()\n",
    "    \n",
    "\"\"\"Printing the results.\"\"\"\n",
    "for key, item in unique_values_dict.items():\n",
    "    print(key.upper())\n",
    "    if len(item) > 10:\n",
    "        print(item[:10])\n",
    "    else: print(item)\n",
    "    "
   ]
  },
  {
   "cell_type": "markdown",
   "metadata": {},
   "source": [
    "#### **Conclusions** \n",
    "\n",
    "1. Numeric values should be formated as *floats* or *ints* not objects\n",
    "2. Missing values (nan) are present in dataset. In case of some columns they will require further inspection.\n",
    "3. Strange values such as *\"zapytaj\"* should be replaced in further steps of analysis. \n",
    "4. `Floor` column also has information about total floor number. If needed there is the possibility to split the column.\n",
    "\n",
    "    <br />"
   ]
  },
  {
   "cell_type": "markdown",
   "metadata": {},
   "source": [
    "## **Cleaning the data**\n",
    "Part I of the analysis requires us to modify and clean the following columns: <br />\n",
    "\n",
    "- `price` - convert to float64 (chage current strange format and remove currency \"zł\")\n",
    "- `area` - convert to float64 (remove \"m²\")\n",
    "- `rent` - convert to float64 (remove currency \"zł\"), missing values are going to be replaced with mean value\n",
    "- `rooms` -convert to float64\n",
    "- `city` - exclude any record that is not from Gdańsk (although data was filtered by city at data accuisition stage,  <br />\n",
    "we can notice some strange values. Most likely these are the result of people inputing offer data in inappropriate fields)\n",
    "\n",
    "\n"
   ]
  },
  {
   "cell_type": "markdown",
   "metadata": {},
   "source": [
    "#### **Cleaning functions**\n",
    "\n",
    "Here, I design cleaning functions so in the next step I can apply them on dedicated columns. "
   ]
  },
  {
   "cell_type": "code",
   "execution_count": 25,
   "metadata": {},
   "outputs": [],
   "source": [
    "\"\"\"Cleaning: PRICE\"\"\"\n",
    "def extract_price(value):\n",
    "    value = value.replace(u\"\\xa0\", u\"\") \\\n",
    "                 .replace(\",\", \".\")               \n",
    "    return float(value[:-2])\n",
    "\n",
    "\"\"\"Cleeaning: AREA\"\"\"\n",
    "def extract_area(value):\n",
    "    if isinstance(value, str):\n",
    "        value = value.replace(\",\", \".\") \\\n",
    "                     .replace(\"m²\", \"\") \\\n",
    "                     .strip() \n",
    "    return float(value)\n",
    "\n",
    "\"\"\"Cleaning: RENT\"\"\"\n",
    "def extract_rent(value):\n",
    "    # I found one missing value formated as np.nan\n",
    "    # Therefore I change it to \"zapytaj\" to match other missing values \n",
    "    if isinstance(value, float):\n",
    "        value = \"zapytaj\"\n",
    "    if value != \"zapytaj\":\n",
    "        value = value.replace(\" \", \"\") \\\n",
    "                     .replace(\",\", \".\")\n",
    "        value = float(value[:-2])\n",
    "    return value\n",
    "\n",
    "def replace_rent(value):\n",
    "    # calculation of mean\n",
    "    mean = alldata.rent[alldata.rent != \"zapytaj\"].mean()\n",
    "    if value == \"zapytaj\":\n",
    "        value = mean\n",
    "    return value\n",
    "\n",
    "\"\"\"Cleaning: ROOMS\"\"\"\n",
    "def extract_rooms(value):\n",
    "    if isinstance(value, str):\n",
    "        try: \n",
    "            value = float(value.strip())\n",
    "        except ValueError: \n",
    "            value = 10.0 \n",
    "    return value\n",
    "\n",
    "\"\"\"Cleaning: CITY\"\"\"\n",
    "alldata = alldata[alldata.city == \"Gdańsk\"]"
   ]
  },
  {
   "cell_type": "markdown",
   "metadata": {},
   "source": [
    "#### **Updating dataframe**"
   ]
  },
  {
   "cell_type": "code",
   "execution_count": 26,
   "metadata": {},
   "outputs": [],
   "source": [
    "# PRICE\n",
    "alldata.price = alldata.price.apply(extract_price)\n",
    "\n",
    "#AREA\n",
    "alldata.area = alldata.area.apply(extract_area)\n",
    "\n",
    "#RENT\n",
    "alldata.rent = alldata.rent.apply(extract_rent)\n",
    "alldata.rent = alldata.rent.apply(replace_rent)\n",
    "\n",
    "#ROOMS\n",
    "alldata.rooms = alldata.rooms.apply(extract_rooms)"
   ]
  },
  {
   "cell_type": "markdown",
   "metadata": {},
   "source": [
    "#### **Cleaning tests**\n",
    "\n",
    "Now, all columns selected for modification are saved in appropriate format. <br />\n",
    "Thanks to this change, it is possible to carry matematical opperations on these columns."
   ]
  },
  {
   "cell_type": "code",
   "execution_count": 27,
   "metadata": {},
   "outputs": [
    {
     "name": "stdout",
     "output_type": "stream",
     "text": [
      "price    float64\n",
      "area     float64\n",
      "rent     float64\n",
      "rooms    float64\n",
      "dtype: object\n",
      "['Gdańsk']\n"
     ]
    }
   ],
   "source": [
    "dtype_test = alldata[[\"price\", \"area\", \"rent\", \"rooms\"]]\n",
    "print(dtype_test.dtypes)\n",
    "print(alldata.city.unique())"
   ]
  },
  {
   "cell_type": "markdown",
   "metadata": {},
   "source": [
    "## **Analysis**\n",
    "\n",
    "The ultimate goal of the analysis is to investigate how different factors affect the prices of properties. <br />"
   ]
  },
  {
   "cell_type": "markdown",
   "metadata": {},
   "source": [
    "#### **Market overview**\n",
    "\n",
    "At the begining, its important to check the general metrics. We can see below that there is quite substential <br />\n",
    "difference between average and median price values. Mean value is larger then the median, as a result we can already suspect <br />\n",
    "that the price distribution is right skewd."
   ]
  },
  {
   "cell_type": "code",
   "execution_count": 28,
   "metadata": {},
   "outputs": [
    {
     "name": "stdout",
     "output_type": "stream",
     "text": [
      "General statistics:\n",
      "Total number of properties: 1187  \n",
      "Avearge price: 716472.31  \n",
      "Median price 599000.0 \n",
      "Avearge rent: 498.89  \n",
      "\n"
     ]
    }
   ],
   "source": [
    "summary = f\"\"\"General statistics:\n",
    "Total number of properties: {len(alldata)}  \n",
    "Avearge price: {alldata.price.mean():.2f}  \n",
    "Median price {alldata.price.median()} \n",
    "Avearge rent: {alldata.rent.mean():.2f}  \n",
    "\"\"\"\n",
    "print(summary)"
   ]
  },
  {
   "cell_type": "markdown",
   "metadata": {},
   "source": [
    "#### **Price distribution**\n",
    "\n",
    "To illustrate this further let's look at the histogram. We can deffinitely confirm our initial assumpition <br />\n",
    "about the distribution. The majority of offers listed fall between 300,000 and 1 millon price range. <br />\n",
    "The assymetry is an obvios implication of very expensive proprties listed that are not that frequent.\n",
    "\n",
    "**Important note**: In order to increae the readability of the chart, I only selected properties <br />\n",
    "with price below 3,500,000 pln.\n",
    "\n",
    " "
   ]
  },
  {
   "cell_type": "code",
   "execution_count": 29,
   "metadata": {},
   "outputs": [
    {
     "data": {
      "text/plain": [
       "<AxesSubplot:xlabel='price', ylabel='Count'>"
      ]
     },
     "execution_count": 29,
     "metadata": {},
     "output_type": "execute_result"
    },
    {
     "data": {
      "image/png": "[encoded data removed]",
      "text/plain": [
       "<Figure size 432x288 with 1 Axes>"
      ]
     },
     "metadata": {},
     "output_type": "display_data"
    }
   ],
   "source": [
    "sns.set_theme(style=\"darkgrid\")\n",
    "sns.histplot(data=alldata[alldata.price < 3500000], \n",
    "             x=\"price\", \n",
    "             binwidth=100000, \n",
    "             kde=True,\n",
    "             )\n"
   ]
  },
  {
   "cell_type": "markdown",
   "metadata": {},
   "source": [
    "Second vizualisation displays price distributions depending on the number of rooms. I have deselected properties <br />\n",
    "with 6 or more rooms since there is too litte data about them. Thereby, these offers are insignificant for the analysis. <br />\n",
    "<br />\n",
    "As expected, when the numer of rooms increases, so does the mean value and distribution \"moves to the right\""
   ]
  },
  {
   "cell_type": "code",
   "execution_count": 30,
   "metadata": {},
   "outputs": [
    {
     "name": "stderr",
     "output_type": "stream",
     "text": [
      "C:\\Users\\budcr\\AppData\\Local\\Temp/ipykernel_7712/1445365037.py:1: UserWarning:\n",
      "\n",
      "Boolean Series key will be reindexed to match DataFrame index.\n",
      "\n"
     ]
    },
    {
     "data": {
      "text/plain": [
       "<seaborn.axisgrid.FacetGrid at 0x112ae4c6770>"
      ]
     },
     "execution_count": 30,
     "metadata": {},
     "output_type": "execute_result"
    },
    {
     "data": {
      "image/png": "[encoded data removed]",
      "text/plain": [
       "<Figure size 1080x216 with 5 Axes>"
      ]
     },
     "metadata": {},
     "output_type": "display_data"
    }
   ],
   "source": [
    "facet_grid_data = alldata[alldata.rooms<6][alldata.price < 2500000]\n",
    "\n",
    "grid = sns.FacetGrid(facet_grid_data.reset_index(), col=\"rooms\")\n",
    "grid.map(sns.histplot, \"price\", binwidth=100000, kde=True)"
   ]
  },
  {
   "cell_type": "markdown",
   "metadata": {},
   "source": [
    "#### **What are the most and least expensive districts?** \n",
    "\n",
    "In this part of the analysis, my goal is to discover how districts affect the price. <br /> \n",
    "<br />\n",
    "I've created a function that calculates summary statistics for grupped data. Here, I group data by the distirict and <br />\n",
    "measure the prices. I'm displaying only districts with 15 or more listings. This prevents showing areas with too little data or <br />\n",
    "that were simply wrongly formated."
   ]
  },
  {
   "cell_type": "code",
   "execution_count": 31,
   "metadata": {},
   "outputs": [
    {
     "data": {
      "text/html": [
       "<div>\n",
       "<style scoped>\n",
       "    .dataframe tbody tr th:only-of-type {\n",
       "        vertical-align: middle;\n",
       "    }\n",
       "\n",
       "    .dataframe tbody tr th {\n",
       "        vertical-align: top;\n",
       "    }\n",
       "\n",
       "    .dataframe thead th {\n",
       "        text-align: right;\n",
       "    }\n",
       "</style>\n",
       "<table border=\"1\" class=\"dataframe\">\n",
       "  <thead>\n",
       "    <tr style=\"text-align: right;\">\n",
       "      <th></th>\n",
       "      <th>mean</th>\n",
       "      <th>median</th>\n",
       "      <th>min</th>\n",
       "      <th>max</th>\n",
       "      <th>len</th>\n",
       "    </tr>\n",
       "    <tr>\n",
       "      <th>district</th>\n",
       "      <th></th>\n",
       "      <th></th>\n",
       "      <th></th>\n",
       "      <th></th>\n",
       "      <th></th>\n",
       "    </tr>\n",
       "  </thead>\n",
       "  <tbody>\n",
       "    <tr>\n",
       "      <th>Oliwa</th>\n",
       "      <td>1118733.48</td>\n",
       "      <td>960000.0</td>\n",
       "      <td>399000.0</td>\n",
       "      <td>2700000.0</td>\n",
       "      <td>48</td>\n",
       "    </tr>\n",
       "    <tr>\n",
       "      <th>Śródmieście</th>\n",
       "      <td>1025993.14</td>\n",
       "      <td>849000.0</td>\n",
       "      <td>285000.0</td>\n",
       "      <td>10900000.0</td>\n",
       "      <td>127</td>\n",
       "    </tr>\n",
       "    <tr>\n",
       "      <th>Brzeźno</th>\n",
       "      <td>931208.61</td>\n",
       "      <td>689000.0</td>\n",
       "      <td>349000.0</td>\n",
       "      <td>2850000.0</td>\n",
       "      <td>28</td>\n",
       "    </tr>\n",
       "    <tr>\n",
       "      <th>Wrzeszcz</th>\n",
       "      <td>892643.22</td>\n",
       "      <td>770000.0</td>\n",
       "      <td>399000.0</td>\n",
       "      <td>2550000.0</td>\n",
       "      <td>107</td>\n",
       "    </tr>\n",
       "    <tr>\n",
       "      <th>Zaspa</th>\n",
       "      <td>807772.86</td>\n",
       "      <td>740000.0</td>\n",
       "      <td>365000.0</td>\n",
       "      <td>1570000.0</td>\n",
       "      <td>35</td>\n",
       "    </tr>\n",
       "    <tr>\n",
       "      <th>Piecki-Migowo</th>\n",
       "      <td>750551.72</td>\n",
       "      <td>699000.0</td>\n",
       "      <td>447702.0</td>\n",
       "      <td>1475000.0</td>\n",
       "      <td>53</td>\n",
       "    </tr>\n",
       "    <tr>\n",
       "      <th>Przymorze</th>\n",
       "      <td>737296.05</td>\n",
       "      <td>669000.0</td>\n",
       "      <td>319000.0</td>\n",
       "      <td>3695000.0</td>\n",
       "      <td>80</td>\n",
       "    </tr>\n",
       "    <tr>\n",
       "      <th>Letnica</th>\n",
       "      <td>702358.23</td>\n",
       "      <td>676000.0</td>\n",
       "      <td>434000.0</td>\n",
       "      <td>1327000.0</td>\n",
       "      <td>58</td>\n",
       "    </tr>\n",
       "    <tr>\n",
       "      <th>pomorskie</th>\n",
       "      <td>680359.95</td>\n",
       "      <td>543974.0</td>\n",
       "      <td>241258.0</td>\n",
       "      <td>1444705.0</td>\n",
       "      <td>22</td>\n",
       "    </tr>\n",
       "    <tr>\n",
       "      <th>Siedlce</th>\n",
       "      <td>648815.23</td>\n",
       "      <td>599000.0</td>\n",
       "      <td>357000.0</td>\n",
       "      <td>1460150.0</td>\n",
       "      <td>26</td>\n",
       "    </tr>\n",
       "    <tr>\n",
       "      <th>Stogi</th>\n",
       "      <td>557383.12</td>\n",
       "      <td>452000.0</td>\n",
       "      <td>320000.0</td>\n",
       "      <td>840195.0</td>\n",
       "      <td>16</td>\n",
       "    </tr>\n",
       "    <tr>\n",
       "      <th>Jasień</th>\n",
       "      <td>557293.93</td>\n",
       "      <td>522500.0</td>\n",
       "      <td>265000.0</td>\n",
       "      <td>1498000.0</td>\n",
       "      <td>158</td>\n",
       "    </tr>\n",
       "    <tr>\n",
       "      <th>Ujeścisko-Łostowice</th>\n",
       "      <td>483960.42</td>\n",
       "      <td>446057.0</td>\n",
       "      <td>249200.0</td>\n",
       "      <td>1028761.0</td>\n",
       "      <td>185</td>\n",
       "    </tr>\n",
       "    <tr>\n",
       "      <th>Żabianka</th>\n",
       "      <td>466705.88</td>\n",
       "      <td>448000.0</td>\n",
       "      <td>350000.0</td>\n",
       "      <td>609000.0</td>\n",
       "      <td>17</td>\n",
       "    </tr>\n",
       "    <tr>\n",
       "      <th>Chełm</th>\n",
       "      <td>465290.69</td>\n",
       "      <td>456630.0</td>\n",
       "      <td>286000.0</td>\n",
       "      <td>1090000.0</td>\n",
       "      <td>70</td>\n",
       "    </tr>\n",
       "    <tr>\n",
       "      <th>Orunia Górna-Gdańsk Południe</th>\n",
       "      <td>443137.92</td>\n",
       "      <td>412149.5</td>\n",
       "      <td>320000.0</td>\n",
       "      <td>649000.0</td>\n",
       "      <td>26</td>\n",
       "    </tr>\n",
       "  </tbody>\n",
       "</table>\n",
       "</div>"
      ],
      "text/plain": [
       "                                    mean    median       min         max  len\n",
       "district                                                                     \n",
       "Oliwa                         1118733.48  960000.0  399000.0   2700000.0   48\n",
       "Śródmieście                   1025993.14  849000.0  285000.0  10900000.0  127\n",
       "Brzeźno                        931208.61  689000.0  349000.0   2850000.0   28\n",
       "Wrzeszcz                       892643.22  770000.0  399000.0   2550000.0  107\n",
       "Zaspa                          807772.86  740000.0  365000.0   1570000.0   35\n",
       "Piecki-Migowo                  750551.72  699000.0  447702.0   1475000.0   53\n",
       "Przymorze                      737296.05  669000.0  319000.0   3695000.0   80\n",
       "Letnica                        702358.23  676000.0  434000.0   1327000.0   58\n",
       "pomorskie                      680359.95  543974.0  241258.0   1444705.0   22\n",
       "Siedlce                        648815.23  599000.0  357000.0   1460150.0   26\n",
       "Stogi                          557383.12  452000.0  320000.0    840195.0   16\n",
       "Jasień                         557293.93  522500.0  265000.0   1498000.0  158\n",
       "Ujeścisko-Łostowice            483960.42  446057.0  249200.0   1028761.0  185\n",
       "Żabianka                       466705.88  448000.0  350000.0    609000.0   17\n",
       "Chełm                          465290.69  456630.0  286000.0   1090000.0   70\n",
       "Orunia Górna-Gdańsk Południe   443137.92  412149.5  320000.0    649000.0   26"
      ]
     },
     "execution_count": 31,
     "metadata": {},
     "output_type": "execute_result"
    }
   ],
   "source": [
    "def summarise_stats(groupby: str, values_column: str, min_count=5):\n",
    "    data_by_column = alldata.groupby(groupby)[values_column].agg([np.mean, np.median, min, max, len])\n",
    "    data_by_column = data_by_column[data_by_column.len > min_count].round(2)\n",
    "    return  data_by_column\n",
    "\n",
    "stats_by_district = summarise_stats(groupby = \"district\", values_column = \"price\", min_count = 15)\n",
    "stats_by_district = stats_by_district.sort_values(by = \"mean\", ascending = False)\n",
    "stats_by_district"
   ]
  },
  {
   "cell_type": "markdown",
   "metadata": {},
   "source": [
    "Bar chart illustrates the arranged oreder of most expensive districts in Gdańsk. Results are quite clear. <br />\n",
    "On average the most expensive districts are 'Oliwa' and 'Śródmieście' with the cheapest being 'Orunia Górna-Gdańsk Południe' <br />\n",
    "<br />\n",
    "We can also notice, judging by the number of offers posted (`len` column) that districts 'Ujeścisko-Łostowice' and 'Jasień' <br />\n",
    "are either quickly developing or people there are willing to change their place of living (they have the largest amounts <br />\n",
    "of new offers: 185 and 158 respectively)"
   ]
  },
  {
   "cell_type": "code",
   "execution_count": 32,
   "metadata": {},
   "outputs": [
    {
     "data": {
      "application/vnd.plotly.v1+json": {
       "config": {
        "plotlyServerURL": "https://plot.ly"
       },
       "data": [
        {
         "alignmentgroup": "True",
         "customdata": [
          [
           960000,
           399000,
           2700000
          ],
          [
           849000,
           285000,
           10900000
          ],
          [
           689000,
           349000,
           2850000
          ],
          [
           770000,
           399000,
           2550000
          ],
          [
           740000,
           365000,
           1570000
          ],
          [
           699000,
           447702,
           1475000
          ],
          [
           669000,
           319000,
           3695000
          ],
          [
           676000,
           434000,
           1327000
          ],
          [
           543974,
           241258,
           1444705
          ],
          [
           599000,
           357000,
           1460150
          ],
          [
           452000,
           320000,
           840195
          ],
          [
           522500,
           265000,
           1498000
          ],
          [
           446057,
           249200,
           1028761
          ],
          [
           448000,
           350000,
           609000
          ],
          [
           456630,
           286000,
           1090000
          ],
          [
           412149.5,
           320000,
           649000
          ]
         ],
         "hovertemplate": "district=%{x}<br>mean=%{y}<br>median=%{customdata[0]}<br>min=%{customdata[1]}<br>max=%{customdata[2]}<extra></extra>",
         "legendgroup": "",
         "marker": {
          "color": "#636efa",
          "pattern": {
           "shape": ""
          }
         },
         "name": "",
         "offsetgroup": "",
         "orientation": "v",
         "showlegend": false,
         "textposition": "auto",
         "type": "bar",
         "x": [
          "Oliwa",
          "Śródmieście",
          "Brzeźno",
          "Wrzeszcz",
          "Zaspa",
          "Piecki-Migowo",
          "Przymorze",
          "Letnica",
          "pomorskie",
          "Siedlce",
          "Stogi",
          "Jasień",
          "Ujeścisko-Łostowice",
          "Żabianka",
          "Chełm",
          "Orunia Górna-Gdańsk Południe"
         ],
         "xaxis": "x",
         "y": [
          1118733.48,
          1025993.14,
          931208.61,
          892643.22,
          807772.86,
          750551.72,
          737296.05,
          702358.23,
          680359.95,
          648815.23,
          557383.12,
          557293.93,
          483960.42,
          466705.88,
          465290.69,
          443137.92
         ],
         "yaxis": "y"
        }
       ],
       "layout": {
        "barmode": "relative",
        "legend": {
         "tracegroupgap": 0
        },
        "margin": {
         "t": 60
        },
        "template": {
         "data": {
          "bar": [
           {
            "error_x": {
             "color": "#2a3f5f"
            },
            "error_y": {
             "color": "#2a3f5f"
            },
            "marker": {
             "line": {
              "color": "#E5ECF6",
              "width": 0.5
             },
             "pattern": {
              "fillmode": "overlay",
              "size": 10,
              "solidity": 0.2
             }
            },
            "type": "bar"
           }
          ],
          "barpolar": [
           {
            "marker": {
             "line": {
              "color": "#E5ECF6",
              "width": 0.5
             },
             "pattern": {
              "fillmode": "overlay",
              "size": 10,
              "solidity": 0.2
             }
            },
            "type": "barpolar"
           }
          ],
          "carpet": [
           {
            "aaxis": {
             "endlinecolor": "#2a3f5f",
             "gridcolor": "white",
             "linecolor": "white",
             "minorgridcolor": "white",
             "startlinecolor": "#2a3f5f"
            },
            "baxis": {
             "endlinecolor": "#2a3f5f",
             "gridcolor": "white",
             "linecolor": "white",
             "minorgridcolor": "white",
             "startlinecolor": "#2a3f5f"
            },
            "type": "carpet"
           }
          ],
          "choropleth": [
           {
            "colorbar": {
             "outlinewidth": 0,
             "ticks": ""
            },
            "type": "choropleth"
           }
          ],
          "contour": [
           {
            "colorbar": {
             "outlinewidth": 0,
             "ticks": ""
            },
            "colorscale": [
             [
              0,
              "#0d0887"
             ],
             [
              0.1111111111111111,
              "#46039f"
             ],
             [
              0.2222222222222222,
              "#7201a8"
             ],
             [
              0.3333333333333333,
              "#9c179e"
             ],
             [
              0.4444444444444444,
              "#bd3786"
             ],
             [
              0.5555555555555556,
              "#d8576b"
             ],
             [
              0.6666666666666666,
              "#ed7953"
             ],
             [
              0.7777777777777778,
              "#fb9f3a"
             ],
             [
              0.8888888888888888,
              "#fdca26"
             ],
             [
              1,
              "#f0f921"
             ]
            ],
            "type": "contour"
           }
          ],
          "contourcarpet": [
           {
            "colorbar": {
             "outlinewidth": 0,
             "ticks": ""
            },
            "type": "contourcarpet"
           }
          ],
          "heatmap": [
           {
            "colorbar": {
             "outlinewidth": 0,
             "ticks": ""
            },
            "colorscale": [
             [
              0,
              "#0d0887"
             ],
             [
              0.1111111111111111,
              "#46039f"
             ],
             [
              0.2222222222222222,
              "#7201a8"
             ],
             [
              0.3333333333333333,
              "#9c179e"
             ],
             [
              0.4444444444444444,
              "#bd3786"
             ],
             [
              0.5555555555555556,
              "#d8576b"
             ],
             [
              0.6666666666666666,
              "#ed7953"
             ],
             [
              0.7777777777777778,
              "#fb9f3a"
             ],
             [
              0.8888888888888888,
              "#fdca26"
             ],
             [
              1,
              "#f0f921"
             ]
            ],
            "type": "heatmap"
           }
          ],
          "heatmapgl": [
           {
            "colorbar": {
             "outlinewidth": 0,
             "ticks": ""
            },
            "colorscale": [
             [
              0,
              "#0d0887"
             ],
             [
              0.1111111111111111,
              "#46039f"
             ],
             [
              0.2222222222222222,
              "#7201a8"
             ],
             [
              0.3333333333333333,
              "#9c179e"
             ],
             [
              0.4444444444444444,
              "#bd3786"
             ],
             [
              0.5555555555555556,
              "#d8576b"
             ],
             [
              0.6666666666666666,
              "#ed7953"
             ],
             [
              0.7777777777777778,
              "#fb9f3a"
             ],
             [
              0.8888888888888888,
              "#fdca26"
             ],
             [
              1,
              "#f0f921"
             ]
            ],
            "type": "heatmapgl"
           }
          ],
          "histogram": [
           {
            "marker": {
             "pattern": {
              "fillmode": "overlay",
              "size": 10,
              "solidity": 0.2
             }
            },
            "type": "histogram"
           }
          ],
          "histogram2d": [
           {
            "colorbar": {
             "outlinewidth": 0,
             "ticks": ""
            },
            "colorscale": [
             [
              0,
              "#0d0887"
             ],
             [
              0.1111111111111111,
              "#46039f"
             ],
             [
              0.2222222222222222,
              "#7201a8"
             ],
             [
              0.3333333333333333,
              "#9c179e"
             ],
             [
              0.4444444444444444,
              "#bd3786"
             ],
             [
              0.5555555555555556,
              "#d8576b"
             ],
             [
              0.6666666666666666,
              "#ed7953"
             ],
             [
              0.7777777777777778,
              "#fb9f3a"
             ],
             [
              0.8888888888888888,
              "#fdca26"
             ],
             [
              1,
              "#f0f921"
             ]
            ],
            "type": "histogram2d"
           }
          ],
          "histogram2dcontour": [
           {
            "colorbar": {
             "outlinewidth": 0,
             "ticks": ""
            },
            "colorscale": [
             [
              0,
              "#0d0887"
             ],
             [
              0.1111111111111111,
              "#46039f"
             ],
             [
              0.2222222222222222,
              "#7201a8"
             ],
             [
              0.3333333333333333,
              "#9c179e"
             ],
             [
              0.4444444444444444,
              "#bd3786"
             ],
             [
              0.5555555555555556,
              "#d8576b"
             ],
             [
              0.6666666666666666,
              "#ed7953"
             ],
             [
              0.7777777777777778,
              "#fb9f3a"
             ],
             [
              0.8888888888888888,
              "#fdca26"
             ],
             [
              1,
              "#f0f921"
             ]
            ],
            "type": "histogram2dcontour"
           }
          ],
          "mesh3d": [
           {
            "colorbar": {
             "outlinewidth": 0,
             "ticks": ""
            },
            "type": "mesh3d"
           }
          ],
          "parcoords": [
           {
            "line": {
             "colorbar": {
              "outlinewidth": 0,
              "ticks": ""
             }
            },
            "type": "parcoords"
           }
          ],
          "pie": [
           {
            "automargin": true,
            "type": "pie"
           }
          ],
          "scatter": [
           {
            "marker": {
             "colorbar": {
              "outlinewidth": 0,
              "ticks": ""
             }
            },
            "type": "scatter"
           }
          ],
          "scatter3d": [
           {
            "line": {
             "colorbar": {
              "outlinewidth": 0,
              "ticks": ""
             }
            },
            "marker": {
             "colorbar": {
              "outlinewidth": 0,
              "ticks": ""
             }
            },
            "type": "scatter3d"
           }
          ],
          "scattercarpet": [
           {
            "marker": {
             "colorbar": {
              "outlinewidth": 0,
              "ticks": ""
             }
            },
            "type": "scattercarpet"
           }
          ],
          "scattergeo": [
           {
            "marker": {
             "colorbar": {
              "outlinewidth": 0,
              "ticks": ""
             }
            },
            "type": "scattergeo"
           }
          ],
          "scattergl": [
           {
            "marker": {
             "colorbar": {
              "outlinewidth": 0,
              "ticks": ""
             }
            },
            "type": "scattergl"
           }
          ],
          "scattermapbox": [
           {
            "marker": {
             "colorbar": {
              "outlinewidth": 0,
              "ticks": ""
             }
            },
            "type": "scattermapbox"
           }
          ],
          "scatterpolar": [
           {
            "marker": {
             "colorbar": {
              "outlinewidth": 0,
              "ticks": ""
             }
            },
            "type": "scatterpolar"
           }
          ],
          "scatterpolargl": [
           {
            "marker": {
             "colorbar": {
              "outlinewidth": 0,
              "ticks": ""
             }
            },
            "type": "scatterpolargl"
           }
          ],
          "scatterternary": [
           {
            "marker": {
             "colorbar": {
              "outlinewidth": 0,
              "ticks": ""
             }
            },
            "type": "scatterternary"
           }
          ],
          "surface": [
           {
            "colorbar": {
             "outlinewidth": 0,
             "ticks": ""
            },
            "colorscale": [
             [
              0,
              "#0d0887"
             ],
             [
              0.1111111111111111,
              "#46039f"
             ],
             [
              0.2222222222222222,
              "#7201a8"
             ],
             [
              0.3333333333333333,
              "#9c179e"
             ],
             [
              0.4444444444444444,
              "#bd3786"
             ],
             [
              0.5555555555555556,
              "#d8576b"
             ],
             [
              0.6666666666666666,
              "#ed7953"
             ],
             [
              0.7777777777777778,
              "#fb9f3a"
             ],
             [
              0.8888888888888888,
              "#fdca26"
             ],
             [
              1,
              "#f0f921"
             ]
            ],
            "type": "surface"
           }
          ],
          "table": [
           {
            "cells": {
             "fill": {
              "color": "#EBF0F8"
             },
             "line": {
              "color": "white"
             }
            },
            "header": {
             "fill": {
              "color": "#C8D4E3"
             },
             "line": {
              "color": "white"
             }
            },
            "type": "table"
           }
          ]
         },
         "layout": {
          "annotationdefaults": {
           "arrowcolor": "#2a3f5f",
           "arrowhead": 0,
           "arrowwidth": 1
          },
          "autotypenumbers": "strict",
          "coloraxis": {
           "colorbar": {
            "outlinewidth": 0,
            "ticks": ""
           }
          },
          "colorscale": {
           "diverging": [
            [
             0,
             "#8e0152"
            ],
            [
             0.1,
             "#c51b7d"
            ],
            [
             0.2,
             "#de77ae"
            ],
            [
             0.3,
             "#f1b6da"
            ],
            [
             0.4,
             "#fde0ef"
            ],
            [
             0.5,
             "#f7f7f7"
            ],
            [
             0.6,
             "#e6f5d0"
            ],
            [
             0.7,
             "#b8e186"
            ],
            [
             0.8,
             "#7fbc41"
            ],
            [
             0.9,
             "#4d9221"
            ],
            [
             1,
             "#276419"
            ]
           ],
           "sequential": [
            [
             0,
             "#0d0887"
            ],
            [
             0.1111111111111111,
             "#46039f"
            ],
            [
             0.2222222222222222,
             "#7201a8"
            ],
            [
             0.3333333333333333,
             "#9c179e"
            ],
            [
             0.4444444444444444,
             "#bd3786"
            ],
            [
             0.5555555555555556,
             "#d8576b"
            ],
            [
             0.6666666666666666,
             "#ed7953"
            ],
            [
             0.7777777777777778,
             "#fb9f3a"
            ],
            [
             0.8888888888888888,
             "#fdca26"
            ],
            [
             1,
             "#f0f921"
            ]
           ],
           "sequentialminus": [
            [
             0,
             "#0d0887"
            ],
            [
             0.1111111111111111,
             "#46039f"
            ],
            [
             0.2222222222222222,
             "#7201a8"
            ],
            [
             0.3333333333333333,
             "#9c179e"
            ],
            [
             0.4444444444444444,
             "#bd3786"
            ],
            [
             0.5555555555555556,
             "#d8576b"
            ],
            [
             0.6666666666666666,
             "#ed7953"
            ],
            [
             0.7777777777777778,
             "#fb9f3a"
            ],
            [
             0.8888888888888888,
             "#fdca26"
            ],
            [
             1,
             "#f0f921"
            ]
           ]
          },
          "colorway": [
           "#636efa",
           "#EF553B",
           "#00cc96",
           "#ab63fa",
           "#FFA15A",
           "#19d3f3",
           "#FF6692",
           "#B6E880",
           "#FF97FF",
           "#FECB52"
          ],
          "font": {
           "color": "#2a3f5f"
          },
          "geo": {
           "bgcolor": "white",
           "lakecolor": "white",
           "landcolor": "#E5ECF6",
           "showlakes": true,
           "showland": true,
           "subunitcolor": "white"
          },
          "hoverlabel": {
           "align": "left"
          },
          "hovermode": "closest",
          "mapbox": {
           "style": "light"
          },
          "paper_bgcolor": "white",
          "plot_bgcolor": "#E5ECF6",
          "polar": {
           "angularaxis": {
            "gridcolor": "white",
            "linecolor": "white",
            "ticks": ""
           },
           "bgcolor": "#E5ECF6",
           "radialaxis": {
            "gridcolor": "white",
            "linecolor": "white",
            "ticks": ""
           }
          },
          "scene": {
           "xaxis": {
            "backgroundcolor": "#E5ECF6",
            "gridcolor": "white",
            "gridwidth": 2,
            "linecolor": "white",
            "showbackground": true,
            "ticks": "",
            "zerolinecolor": "white"
           },
           "yaxis": {
            "backgroundcolor": "#E5ECF6",
            "gridcolor": "white",
            "gridwidth": 2,
            "linecolor": "white",
            "showbackground": true,
            "ticks": "",
            "zerolinecolor": "white"
           },
           "zaxis": {
            "backgroundcolor": "#E5ECF6",
            "gridcolor": "white",
            "gridwidth": 2,
            "linecolor": "white",
            "showbackground": true,
            "ticks": "",
            "zerolinecolor": "white"
           }
          },
          "shapedefaults": {
           "line": {
            "color": "#2a3f5f"
           }
          },
          "ternary": {
           "aaxis": {
            "gridcolor": "white",
            "linecolor": "white",
            "ticks": ""
           },
           "baxis": {
            "gridcolor": "white",
            "linecolor": "white",
            "ticks": ""
           },
           "bgcolor": "#E5ECF6",
           "caxis": {
            "gridcolor": "white",
            "linecolor": "white",
            "ticks": ""
           }
          },
          "title": {
           "x": 0.05
          },
          "xaxis": {
           "automargin": true,
           "gridcolor": "white",
           "linecolor": "white",
           "ticks": "",
           "title": {
            "standoff": 15
           },
           "zerolinecolor": "white",
           "zerolinewidth": 2
          },
          "yaxis": {
           "automargin": true,
           "gridcolor": "white",
           "linecolor": "white",
           "ticks": "",
           "title": {
            "standoff": 15
           },
           "zerolinecolor": "white",
           "zerolinewidth": 2
          }
         }
        },
        "xaxis": {
         "anchor": "y",
         "domain": [
          0,
          1
         ],
         "title": {
          "text": "district"
         }
        },
        "yaxis": {
         "anchor": "x",
         "domain": [
          0,
          1
         ],
         "title": {
          "text": "mean"
         }
        }
       }
      }
     },
     "metadata": {},
     "output_type": "display_data"
    }
   ],
   "source": [
    "fig = px.bar(stats_by_district.reset_index(), x='district', y='mean', hover_data=['mean', 'median', \"min\", \"max\"])\n",
    "fig.show()"
   ]
  },
  {
   "cell_type": "markdown",
   "metadata": {},
   "source": [
    "**Important Note**: Graph may not be visible in preview mode on github"
   ]
  },
  {
   "cell_type": "markdown",
   "metadata": {},
   "source": [
    "#### **How number of rooms impacts the price?** \n",
    "Number of rooms also seems to be one of decesive factors influencing the price. We can see that the great majority  <br />\n",
    "(almost 80%) of all offers posted on the website represent properties with 2 or 3 rooms. Flats with 5 rooms are the rarest <br />\n",
    "and most expensive.\n"
   ]
  },
  {
   "cell_type": "code",
   "execution_count": 33,
   "metadata": {},
   "outputs": [
    {
     "data": {
      "text/html": [
       "<div>\n",
       "<style scoped>\n",
       "    .dataframe tbody tr th:only-of-type {\n",
       "        vertical-align: middle;\n",
       "    }\n",
       "\n",
       "    .dataframe tbody tr th {\n",
       "        vertical-align: top;\n",
       "    }\n",
       "\n",
       "    .dataframe thead th {\n",
       "        text-align: right;\n",
       "    }\n",
       "</style>\n",
       "<table border=\"1\" class=\"dataframe\">\n",
       "  <thead>\n",
       "    <tr style=\"text-align: right;\">\n",
       "      <th></th>\n",
       "      <th>mean</th>\n",
       "      <th>median</th>\n",
       "      <th>min</th>\n",
       "      <th>max</th>\n",
       "      <th>len</th>\n",
       "    </tr>\n",
       "    <tr>\n",
       "      <th>rooms</th>\n",
       "      <th></th>\n",
       "      <th></th>\n",
       "      <th></th>\n",
       "      <th></th>\n",
       "      <th></th>\n",
       "    </tr>\n",
       "  </thead>\n",
       "  <tbody>\n",
       "    <tr>\n",
       "      <th>1.0</th>\n",
       "      <td>399227.42</td>\n",
       "      <td>369000.0</td>\n",
       "      <td>249200.0</td>\n",
       "      <td>794970.0</td>\n",
       "      <td>91</td>\n",
       "    </tr>\n",
       "    <tr>\n",
       "      <th>2.0</th>\n",
       "      <td>575595.26</td>\n",
       "      <td>499000.0</td>\n",
       "      <td>241258.0</td>\n",
       "      <td>2758000.0</td>\n",
       "      <td>481</td>\n",
       "    </tr>\n",
       "    <tr>\n",
       "      <th>3.0</th>\n",
       "      <td>773084.39</td>\n",
       "      <td>679000.0</td>\n",
       "      <td>320000.0</td>\n",
       "      <td>3456950.0</td>\n",
       "      <td>437</td>\n",
       "    </tr>\n",
       "    <tr>\n",
       "      <th>4.0</th>\n",
       "      <td>1025763.04</td>\n",
       "      <td>826714.0</td>\n",
       "      <td>449500.0</td>\n",
       "      <td>4400000.0</td>\n",
       "      <td>144</td>\n",
       "    </tr>\n",
       "    <tr>\n",
       "      <th>5.0</th>\n",
       "      <td>1268253.40</td>\n",
       "      <td>1028761.0</td>\n",
       "      <td>595000.0</td>\n",
       "      <td>4300000.0</td>\n",
       "      <td>31</td>\n",
       "    </tr>\n",
       "  </tbody>\n",
       "</table>\n",
       "</div>"
      ],
      "text/plain": [
       "             mean     median       min        max  len\n",
       "rooms                                                 \n",
       "1.0     399227.42   369000.0  249200.0   794970.0   91\n",
       "2.0     575595.26   499000.0  241258.0  2758000.0  481\n",
       "3.0     773084.39   679000.0  320000.0  3456950.0  437\n",
       "4.0    1025763.04   826714.0  449500.0  4400000.0  144\n",
       "5.0    1268253.40  1028761.0  595000.0  4300000.0   31"
      ]
     },
     "execution_count": 33,
     "metadata": {},
     "output_type": "execute_result"
    }
   ],
   "source": [
    "stats_by_num_rooms = summarise_stats(groupby = \"rooms\", values_column = \"price\", min_count = 15)\n",
    "stats_by_num_rooms.sort_values(by = \"mean\")"
   ]
  },
  {
   "cell_type": "markdown",
   "metadata": {},
   "source": [
    "Boxplot data gives us insights about how distribution of prices changes across properties with different number of rooms. <br />\n",
    "The box with highest IQR is the one representing flats with 4 rooms. Hence, we can say that in this grup prices differ the most. <br />\n"
   ]
  },
  {
   "cell_type": "code",
   "execution_count": 34,
   "metadata": {},
   "outputs": [
    {
     "name": "stderr",
     "output_type": "stream",
     "text": [
      "C:\\Users\\budcr\\AppData\\Local\\Temp/ipykernel_7712/119876913.py:1: UserWarning:\n",
      "\n",
      "Boolean Series key will be reindexed to match DataFrame index.\n",
      "\n"
     ]
    },
    {
     "data": {
      "text/plain": [
       "<AxesSubplot:xlabel='rooms', ylabel='price'>"
      ]
     },
     "execution_count": 34,
     "metadata": {},
     "output_type": "execute_result"
    },
    {
     "data": {
      "image/png": "[encoded data removed]",
      "text/plain": [
       "<Figure size 576x504 with 1 Axes>"
      ]
     },
     "metadata": {},
     "output_type": "display_data"
    }
   ],
   "source": [
    "data_boxplot = alldata[alldata.rooms < 6][alldata.price < 3000000]\n",
    "\n",
    "plt.figure(figsize=(8,7))\n",
    "fig = sns.boxplot(data=data_boxplot.reset_index(), x=\"rooms\", y=\"price\")\n",
    "fig"
   ]
  },
  {
   "cell_type": "markdown",
   "metadata": {},
   "source": [
    "**Important note**: I have intenionally sliced the dataset to better ilustrate the distributions. <br />\n",
    "I also included only properties with 5 rooms at maximum and with price lower then 3 million PLN. <br />\n",
    " Decreasing the amount of outliers raises the readability of the boxplots."
   ]
  },
  {
   "cell_type": "markdown",
   "metadata": {},
   "source": [
    "## **Analysis - Qualitative variables**\n",
    "\n",
    "Amenities like the access to a garage, cellar or utility room may have real impact on the price. <br />\n",
    "However, before the tests are viable, proper cleaning is required. Intrestingly, column `extra_info` contains data <br />\n",
    "about both cellar and utility room in the property. Extraction of these details is going to be one of the next tasks."
   ]
  },
  {
   "cell_type": "markdown",
   "metadata": {},
   "source": [
    "#### **Cleaning qualitative variable columns**\n",
    "\n",
    "Turning columns into boolean format:\n",
    "- `seller_type` - is private (0/1)\n",
    "- `market` - 0 - secondary, 1 - primary market\n",
    "- `elevator`- has elevator (0/1)\n",
    "- `balcony` - has balcony/garden (0/1)\n",
    "- `garage` - has garage (0/1)\n",
    "- `extra_info` - splitting into two new columns: `cellar` and `utility_room` (both in boolean format)"
   ]
  },
  {
   "cell_type": "code",
   "execution_count": 35,
   "metadata": {},
   "outputs": [],
   "source": [
    "# Defining functions\n",
    "def format_seller_type(value):\n",
    "    if value == \"prywatny\": value = 1\n",
    "    else: value = 0\n",
    "    return value\n",
    "    \n",
    "def format_market(value): \n",
    "    if value == \"wtorny\": value = 0\n",
    "    else: value = 1\n",
    "    return value\n",
    "\n",
    "def format_elevator(value):\n",
    "    if value == \"tak\": value = 1\n",
    "    else: value = 0\n",
    "    return value\n",
    "    \n",
    "def format_balcony(value): \n",
    "    if isinstance(value, str):\n",
    "        if \"balkon\" in value or \"taras\" in value: \n",
    "            value = 1\n",
    "        else: value = 0\n",
    "    else: value = 0\n",
    "    return value\n",
    "\n",
    "def format_garage(value): \n",
    "    if isinstance(value, str):\n",
    "        if \"garaż\" in value: value = 1\n",
    "        else: value = 0\n",
    "    else: value = 0\n",
    "    return value\n",
    "\n",
    "def format_cellar(value): \n",
    "    if isinstance(value, str):\n",
    "        if \"piwnica\" in value: value = 1\n",
    "        else: value = 0\n",
    "    else: value = 0\n",
    "    return value\n",
    "\n",
    "def format_utiliity_room(value): \n",
    "    if isinstance(value, str):\n",
    "        if \"pom. użytkowe\" in value: \n",
    "            value = 1   \n",
    "        else: value = 0\n",
    "    else: value = 0\n",
    "    return value\n",
    "\n",
    "# Updating dataframe\n",
    "alldata.seller_type = alldata.seller_type.apply(format_seller_type)\n",
    "alldata.market = alldata.market.apply(format_market)\n",
    "alldata.elevator = alldata.elevator.apply(format_elevator)\n",
    "alldata.balcony = alldata.balcony.apply(format_balcony)\n",
    "alldata.garage = alldata.garage.apply(format_garage)\n",
    "\n",
    "# Creating cellar and utility_room columns\n",
    "alldata.loc[:, \"cellar\"] = alldata[\"extra_info\"].apply(format_cellar)\n",
    "alldata.loc[:, \"utility_room\"] = alldata[\"extra_info\"].apply(format_utiliity_room)"
   ]
  },
  {
   "cell_type": "markdown",
   "metadata": {},
   "source": [
    "#### **Does garage, utility room or elevator increase the average cost of the property?**\n",
    "\n",
    "To tackle this problem I've designed the function: `investigate_feature()` that takes column name as argument. <br /> \n",
    "Function's task is to divide the dataset into two groups (one group of offers has the feature (1) and the other doesn't <br />\n",
    "have it (0)). Then it calculates average price of properites for each group and also returns the differance. "
   ]
  },
  {
   "cell_type": "code",
   "execution_count": 36,
   "metadata": {},
   "outputs": [
    {
     "name": "stdout",
     "output_type": "stream",
     "text": [
      "Comparison of average property prices for: GARAGE feature \n",
      "yes: 761120.57 zł, no: 646655.15 zł\n",
      "Differance (yes - no): 114465.43 zł\n",
      "\n",
      "\n",
      "Comparison of average property prices for: CELLAR feature \n",
      "yes: 677132.75 zł, no: 741099.95 zł\n",
      "Differance (yes - no): -63967.20 zł\n",
      "\n",
      "\n",
      "Comparison of average property prices for: UTILITY_ROOM feature \n",
      "yes: 800182.18 zł, no: 679887.24 zł\n",
      "Differance (yes - no): 120294.94 zł\n",
      "\n",
      "\n",
      "Comparison of average property prices for: ELEVATOR feature \n",
      "yes: 772040.32 zł, no: 669619.16 zł\n",
      "Differance (yes - no): 102421.16 zł\n",
      "\n",
      "\n"
     ]
    }
   ],
   "source": [
    "def investigate_feature(column_name):\n",
    "    f_yes = alldata[alldata[column_name] == 1]\n",
    "    f_no = alldata[alldata[column_name] == 0]\n",
    "    # calculating average values\n",
    "    f_y_mean = f_yes.price.mean()\n",
    "    f_n_mean = f_no.price.mean()\n",
    "    \n",
    "    message = f\"\"\"Comparison of average property prices for: {column_name.upper()} feature \n",
    "yes: {f_y_mean:.2f} zł, no: {f_n_mean:.2f} zł\n",
    "Differance (yes - no): {f_y_mean - f_n_mean:.2f} zł\"\"\"\n",
    "    return message\n",
    "\n",
    "# Printing the results\n",
    "qualitative_columns = [\"garage\", \"cellar\", \"utility_room\", 'elevator']\n",
    "for col in qualitative_columns:\n",
    "    feature_stats = investigate_feature(col)   \n",
    "    print(feature_stats)\n",
    "    print(\"\\n\")"
   ]
  },
  {
   "cell_type": "markdown",
   "metadata": {},
   "source": [
    "As we can see for `garage`, `utility_room` and `elevator` features, average prices differ by subsential margin from offers <br />\n",
    "lacking these amenities. However, it is important to underline that we can't assume that one of these individual features <br />\n",
    "independently increases the average property price by about 100,000 zł, as other factors may also play a significant role. <br />\n",
    "<br />\n",
    "We can on the other hand say that we see diferance in average prices given the feature is present or not. <br />\n",
    "Intrestingly, it seems that properties with cellar are on avarage cheaper in comparison to those that don't have it. <br />\n",
    "Again it only suggest that price of these properties is also influenced by other factors."
   ]
  },
  {
   "cell_type": "markdown",
   "metadata": {},
   "source": [
    "#### **How common are some of the qualitative features?**\n",
    "In this part, I will investigate how frequelntly extra features like `garage` or `utility_room` appear on home listings. <br />"
   ]
  },
  {
   "cell_type": "code",
   "execution_count": 37,
   "metadata": {},
   "outputs": [
    {
     "data": {
      "application/vnd.plotly.v1+json": {
       "config": {
        "plotlyServerURL": "https://plot.ly"
       },
       "data": [
        {
         "alignmentgroup": "True",
         "hovertemplate": "Features=%{x}<br>Counts=%{y}<extra></extra>",
         "legendgroup": "",
         "marker": {
          "color": "#636efa",
          "pattern": {
           "shape": ""
          }
         },
         "name": "",
         "offsetgroup": "",
         "orientation": "v",
         "showlegend": false,
         "textposition": "auto",
         "type": "bar",
         "x": [
          "garage",
          "cellar",
          "utility_room",
          "elevator",
          "balcony"
         ],
         "xaxis": "x",
         "y": [
          724,
          457,
          361,
          543,
          828
         ],
         "yaxis": "y"
        }
       ],
       "layout": {
        "barmode": "relative",
        "legend": {
         "tracegroupgap": 0
        },
        "template": {
         "data": {
          "bar": [
           {
            "error_x": {
             "color": "#2a3f5f"
            },
            "error_y": {
             "color": "#2a3f5f"
            },
            "marker": {
             "line": {
              "color": "#E5ECF6",
              "width": 0.5
             },
             "pattern": {
              "fillmode": "overlay",
              "size": 10,
              "solidity": 0.2
             }
            },
            "type": "bar"
           }
          ],
          "barpolar": [
           {
            "marker": {
             "line": {
              "color": "#E5ECF6",
              "width": 0.5
             },
             "pattern": {
              "fillmode": "overlay",
              "size": 10,
              "solidity": 0.2
             }
            },
            "type": "barpolar"
           }
          ],
          "carpet": [
           {
            "aaxis": {
             "endlinecolor": "#2a3f5f",
             "gridcolor": "white",
             "linecolor": "white",
             "minorgridcolor": "white",
             "startlinecolor": "#2a3f5f"
            },
            "baxis": {
             "endlinecolor": "#2a3f5f",
             "gridcolor": "white",
             "linecolor": "white",
             "minorgridcolor": "white",
             "startlinecolor": "#2a3f5f"
            },
            "type": "carpet"
           }
          ],
          "choropleth": [
           {
            "colorbar": {
             "outlinewidth": 0,
             "ticks": ""
            },
            "type": "choropleth"
           }
          ],
          "contour": [
           {
            "colorbar": {
             "outlinewidth": 0,
             "ticks": ""
            },
            "colorscale": [
             [
              0,
              "#0d0887"
             ],
             [
              0.1111111111111111,
              "#46039f"
             ],
             [
              0.2222222222222222,
              "#7201a8"
             ],
             [
              0.3333333333333333,
              "#9c179e"
             ],
             [
              0.4444444444444444,
              "#bd3786"
             ],
             [
              0.5555555555555556,
              "#d8576b"
             ],
             [
              0.6666666666666666,
              "#ed7953"
             ],
             [
              0.7777777777777778,
              "#fb9f3a"
             ],
             [
              0.8888888888888888,
              "#fdca26"
             ],
             [
              1,
              "#f0f921"
             ]
            ],
            "type": "contour"
           }
          ],
          "contourcarpet": [
           {
            "colorbar": {
             "outlinewidth": 0,
             "ticks": ""
            },
            "type": "contourcarpet"
           }
          ],
          "heatmap": [
           {
            "colorbar": {
             "outlinewidth": 0,
             "ticks": ""
            },
            "colorscale": [
             [
              0,
              "#0d0887"
             ],
             [
              0.1111111111111111,
              "#46039f"
             ],
             [
              0.2222222222222222,
              "#7201a8"
             ],
             [
              0.3333333333333333,
              "#9c179e"
             ],
             [
              0.4444444444444444,
              "#bd3786"
             ],
             [
              0.5555555555555556,
              "#d8576b"
             ],
             [
              0.6666666666666666,
              "#ed7953"
             ],
             [
              0.7777777777777778,
              "#fb9f3a"
             ],
             [
              0.8888888888888888,
              "#fdca26"
             ],
             [
              1,
              "#f0f921"
             ]
            ],
            "type": "heatmap"
           }
          ],
          "heatmapgl": [
           {
            "colorbar": {
             "outlinewidth": 0,
             "ticks": ""
            },
            "colorscale": [
             [
              0,
              "#0d0887"
             ],
             [
              0.1111111111111111,
              "#46039f"
             ],
             [
              0.2222222222222222,
              "#7201a8"
             ],
             [
              0.3333333333333333,
              "#9c179e"
             ],
             [
              0.4444444444444444,
              "#bd3786"
             ],
             [
              0.5555555555555556,
              "#d8576b"
             ],
             [
              0.6666666666666666,
              "#ed7953"
             ],
             [
              0.7777777777777778,
              "#fb9f3a"
             ],
             [
              0.8888888888888888,
              "#fdca26"
             ],
             [
              1,
              "#f0f921"
             ]
            ],
            "type": "heatmapgl"
           }
          ],
          "histogram": [
           {
            "marker": {
             "pattern": {
              "fillmode": "overlay",
              "size": 10,
              "solidity": 0.2
             }
            },
            "type": "histogram"
           }
          ],
          "histogram2d": [
           {
            "colorbar": {
             "outlinewidth": 0,
             "ticks": ""
            },
            "colorscale": [
             [
              0,
              "#0d0887"
             ],
             [
              0.1111111111111111,
              "#46039f"
             ],
             [
              0.2222222222222222,
              "#7201a8"
             ],
             [
              0.3333333333333333,
              "#9c179e"
             ],
             [
              0.4444444444444444,
              "#bd3786"
             ],
             [
              0.5555555555555556,
              "#d8576b"
             ],
             [
              0.6666666666666666,
              "#ed7953"
             ],
             [
              0.7777777777777778,
              "#fb9f3a"
             ],
             [
              0.8888888888888888,
              "#fdca26"
             ],
             [
              1,
              "#f0f921"
             ]
            ],
            "type": "histogram2d"
           }
          ],
          "histogram2dcontour": [
           {
            "colorbar": {
             "outlinewidth": 0,
             "ticks": ""
            },
            "colorscale": [
             [
              0,
              "#0d0887"
             ],
             [
              0.1111111111111111,
              "#46039f"
             ],
             [
              0.2222222222222222,
              "#7201a8"
             ],
             [
              0.3333333333333333,
              "#9c179e"
             ],
             [
              0.4444444444444444,
              "#bd3786"
             ],
             [
              0.5555555555555556,
              "#d8576b"
             ],
             [
              0.6666666666666666,
              "#ed7953"
             ],
             [
              0.7777777777777778,
              "#fb9f3a"
             ],
             [
              0.8888888888888888,
              "#fdca26"
             ],
             [
              1,
              "#f0f921"
             ]
            ],
            "type": "histogram2dcontour"
           }
          ],
          "mesh3d": [
           {
            "colorbar": {
             "outlinewidth": 0,
             "ticks": ""
            },
            "type": "mesh3d"
           }
          ],
          "parcoords": [
           {
            "line": {
             "colorbar": {
              "outlinewidth": 0,
              "ticks": ""
             }
            },
            "type": "parcoords"
           }
          ],
          "pie": [
           {
            "automargin": true,
            "type": "pie"
           }
          ],
          "scatter": [
           {
            "marker": {
             "colorbar": {
              "outlinewidth": 0,
              "ticks": ""
             }
            },
            "type": "scatter"
           }
          ],
          "scatter3d": [
           {
            "line": {
             "colorbar": {
              "outlinewidth": 0,
              "ticks": ""
             }
            },
            "marker": {
             "colorbar": {
              "outlinewidth": 0,
              "ticks": ""
             }
            },
            "type": "scatter3d"
           }
          ],
          "scattercarpet": [
           {
            "marker": {
             "colorbar": {
              "outlinewidth": 0,
              "ticks": ""
             }
            },
            "type": "scattercarpet"
           }
          ],
          "scattergeo": [
           {
            "marker": {
             "colorbar": {
              "outlinewidth": 0,
              "ticks": ""
             }
            },
            "type": "scattergeo"
           }
          ],
          "scattergl": [
           {
            "marker": {
             "colorbar": {
              "outlinewidth": 0,
              "ticks": ""
             }
            },
            "type": "scattergl"
           }
          ],
          "scattermapbox": [
           {
            "marker": {
             "colorbar": {
              "outlinewidth": 0,
              "ticks": ""
             }
            },
            "type": "scattermapbox"
           }
          ],
          "scatterpolar": [
           {
            "marker": {
             "colorbar": {
              "outlinewidth": 0,
              "ticks": ""
             }
            },
            "type": "scatterpolar"
           }
          ],
          "scatterpolargl": [
           {
            "marker": {
             "colorbar": {
              "outlinewidth": 0,
              "ticks": ""
             }
            },
            "type": "scatterpolargl"
           }
          ],
          "scatterternary": [
           {
            "marker": {
             "colorbar": {
              "outlinewidth": 0,
              "ticks": ""
             }
            },
            "type": "scatterternary"
           }
          ],
          "surface": [
           {
            "colorbar": {
             "outlinewidth": 0,
             "ticks": ""
            },
            "colorscale": [
             [
              0,
              "#0d0887"
             ],
             [
              0.1111111111111111,
              "#46039f"
             ],
             [
              0.2222222222222222,
              "#7201a8"
             ],
             [
              0.3333333333333333,
              "#9c179e"
             ],
             [
              0.4444444444444444,
              "#bd3786"
             ],
             [
              0.5555555555555556,
              "#d8576b"
             ],
             [
              0.6666666666666666,
              "#ed7953"
             ],
             [
              0.7777777777777778,
              "#fb9f3a"
             ],
             [
              0.8888888888888888,
              "#fdca26"
             ],
             [
              1,
              "#f0f921"
             ]
            ],
            "type": "surface"
           }
          ],
          "table": [
           {
            "cells": {
             "fill": {
              "color": "#EBF0F8"
             },
             "line": {
              "color": "white"
             }
            },
            "header": {
             "fill": {
              "color": "#C8D4E3"
             },
             "line": {
              "color": "white"
             }
            },
            "type": "table"
           }
          ]
         },
         "layout": {
          "annotationdefaults": {
           "arrowcolor": "#2a3f5f",
           "arrowhead": 0,
           "arrowwidth": 1
          },
          "autotypenumbers": "strict",
          "coloraxis": {
           "colorbar": {
            "outlinewidth": 0,
            "ticks": ""
           }
          },
          "colorscale": {
           "diverging": [
            [
             0,
             "#8e0152"
            ],
            [
             0.1,
             "#c51b7d"
            ],
            [
             0.2,
             "#de77ae"
            ],
            [
             0.3,
             "#f1b6da"
            ],
            [
             0.4,
             "#fde0ef"
            ],
            [
             0.5,
             "#f7f7f7"
            ],
            [
             0.6,
             "#e6f5d0"
            ],
            [
             0.7,
             "#b8e186"
            ],
            [
             0.8,
             "#7fbc41"
            ],
            [
             0.9,
             "#4d9221"
            ],
            [
             1,
             "#276419"
            ]
           ],
           "sequential": [
            [
             0,
             "#0d0887"
            ],
            [
             0.1111111111111111,
             "#46039f"
            ],
            [
             0.2222222222222222,
             "#7201a8"
            ],
            [
             0.3333333333333333,
             "#9c179e"
            ],
            [
             0.4444444444444444,
             "#bd3786"
            ],
            [
             0.5555555555555556,
             "#d8576b"
            ],
            [
             0.6666666666666666,
             "#ed7953"
            ],
            [
             0.7777777777777778,
             "#fb9f3a"
            ],
            [
             0.8888888888888888,
             "#fdca26"
            ],
            [
             1,
             "#f0f921"
            ]
           ],
           "sequentialminus": [
            [
             0,
             "#0d0887"
            ],
            [
             0.1111111111111111,
             "#46039f"
            ],
            [
             0.2222222222222222,
             "#7201a8"
            ],
            [
             0.3333333333333333,
             "#9c179e"
            ],
            [
             0.4444444444444444,
             "#bd3786"
            ],
            [
             0.5555555555555556,
             "#d8576b"
            ],
            [
             0.6666666666666666,
             "#ed7953"
            ],
            [
             0.7777777777777778,
             "#fb9f3a"
            ],
            [
             0.8888888888888888,
             "#fdca26"
            ],
            [
             1,
             "#f0f921"
            ]
           ]
          },
          "colorway": [
           "#636efa",
           "#EF553B",
           "#00cc96",
           "#ab63fa",
           "#FFA15A",
           "#19d3f3",
           "#FF6692",
           "#B6E880",
           "#FF97FF",
           "#FECB52"
          ],
          "font": {
           "color": "#2a3f5f"
          },
          "geo": {
           "bgcolor": "white",
           "lakecolor": "white",
           "landcolor": "#E5ECF6",
           "showlakes": true,
           "showland": true,
           "subunitcolor": "white"
          },
          "hoverlabel": {
           "align": "left"
          },
          "hovermode": "closest",
          "mapbox": {
           "style": "light"
          },
          "paper_bgcolor": "white",
          "plot_bgcolor": "#E5ECF6",
          "polar": {
           "angularaxis": {
            "gridcolor": "white",
            "linecolor": "white",
            "ticks": ""
           },
           "bgcolor": "#E5ECF6",
           "radialaxis": {
            "gridcolor": "white",
            "linecolor": "white",
            "ticks": ""
           }
          },
          "scene": {
           "xaxis": {
            "backgroundcolor": "#E5ECF6",
            "gridcolor": "white",
            "gridwidth": 2,
            "linecolor": "white",
            "showbackground": true,
            "ticks": "",
            "zerolinecolor": "white"
           },
           "yaxis": {
            "backgroundcolor": "#E5ECF6",
            "gridcolor": "white",
            "gridwidth": 2,
            "linecolor": "white",
            "showbackground": true,
            "ticks": "",
            "zerolinecolor": "white"
           },
           "zaxis": {
            "backgroundcolor": "#E5ECF6",
            "gridcolor": "white",
            "gridwidth": 2,
            "linecolor": "white",
            "showbackground": true,
            "ticks": "",
            "zerolinecolor": "white"
           }
          },
          "shapedefaults": {
           "line": {
            "color": "#2a3f5f"
           }
          },
          "ternary": {
           "aaxis": {
            "gridcolor": "white",
            "linecolor": "white",
            "ticks": ""
           },
           "baxis": {
            "gridcolor": "white",
            "linecolor": "white",
            "ticks": ""
           },
           "bgcolor": "#E5ECF6",
           "caxis": {
            "gridcolor": "white",
            "linecolor": "white",
            "ticks": ""
           }
          },
          "title": {
           "x": 0.05
          },
          "xaxis": {
           "automargin": true,
           "gridcolor": "white",
           "linecolor": "white",
           "ticks": "",
           "title": {
            "standoff": 15
           },
           "zerolinecolor": "white",
           "zerolinewidth": 2
          },
          "yaxis": {
           "automargin": true,
           "gridcolor": "white",
           "linecolor": "white",
           "ticks": "",
           "title": {
            "standoff": 15
           },
           "zerolinecolor": "white",
           "zerolinewidth": 2
          }
         }
        },
        "title": {
         "text": "Counts of different features"
        },
        "xaxis": {
         "anchor": "y",
         "domain": [
          0,
          1
         ],
         "title": {
          "text": "Features"
         }
        },
        "yaxis": {
         "anchor": "x",
         "domain": [
          0,
          1
         ],
         "title": {
          "text": "Counts"
         }
        }
       }
      }
     },
     "metadata": {},
     "output_type": "display_data"
    }
   ],
   "source": [
    "qualitative_columns = [\"garage\", \"cellar\", \"utility_room\", 'elevator', \"balcony\"]\n",
    "count_values = []\n",
    "   \n",
    "for col in qualitative_columns:\n",
    "    count = alldata[alldata[col] == 1]\n",
    "    count_values.append(len(count))\n",
    "    \n",
    "px.bar(x=qualitative_columns, \n",
    "       y=count_values, \n",
    "       title=\"Counts of different features\", \n",
    "       labels={\n",
    "           \"x\": \"Features\",\n",
    "           \"y\": \"Counts\"})\n",
    "\n"
   ]
  },
  {
   "cell_type": "markdown",
   "metadata": {},
   "source": [
    "It turns out that the least frequent feature is the utility room with 361 offers out of 1187. <br /> \n",
    "On the contrary, `garage` and `balcony` are present in the majority of the listings. <br />\n",
    "<br />\n",
    "(after hovering over a bar it is possible to check individual feature counts)\n",
    "\n",
    "**Important Note**: graph may not be visible in preview mode on github"
   ]
  },
  {
   "cell_type": "markdown",
   "metadata": {},
   "source": [
    "## **Analysis - Regression model**\n",
    "\n",
    "**Multiple regression** model can be a great solution to estimate the impact of each feature on price. <br />\n",
    "<br />\n",
    "I have defined columns that will be part of the model in a list: `reg_columns`. <br />\n",
    "Then I split the dataset into train and test sets, making it easy to check performace of the model in the future.\n"
   ]
  },
  {
   "cell_type": "code",
   "execution_count": 38,
   "metadata": {},
   "outputs": [],
   "source": [
    "reg_columns = ['area', 'rooms', 'balcony', \n",
    "               'garage', 'elevator', 'cellar', \n",
    "               'utility_room', \"seller_type\"]\n",
    "\n",
    "x = alldata[reg_columns]\n",
    "y = alldata[['price']]\n",
    "\n",
    "x_train, x_test, y_train, y_test = train_test_split(x, y, train_size = 0.8, test_size = 0.2)"
   ]
  },
  {
   "cell_type": "markdown",
   "metadata": {},
   "source": [
    "#### **Creating the model**\n",
    "Creating the model and printing coeficient for each parameter. Given the results, we can notice that `area` <br /> \n",
    "is one of the most indicative features."
   ]
  },
  {
   "cell_type": "code",
   "execution_count": 39,
   "metadata": {},
   "outputs": [
    {
     "name": "stdout",
     "output_type": "stream",
     "text": [
      "[[  17271.24153626 -127033.59026351  -33164.87629348   14813.40969096\n",
      "   153277.58025372  -78408.64423546   37904.87548478   90116.16157974]]\n"
     ]
    }
   ],
   "source": [
    "mlr = LinearRegression()\n",
    "\n",
    "model = mlr.fit(x_train, y_train)\n",
    "y_predict = mlr.predict(x_test)  \n",
    "print(mlr.coef_)"
   ]
  },
  {
   "cell_type": "markdown",
   "metadata": {},
   "source": [
    "#### **Model performance**\n",
    "Model predictions are measured by R squered parameter. The closer a score is to 1 the better. <br /> \n",
    "Our model did quite well however certainly there is a room for improvement. Probably if the data set was larger and <br />\n",
    "the parameters were further optimized we would recive better results.   <br />\n",
    "\n",
    "<br />\n",
    "Nevertheless, it can approximate the influance of features decently enough to form general understanding."
   ]
  },
  {
   "cell_type": "code",
   "execution_count": 40,
   "metadata": {},
   "outputs": [
    {
     "name": "stdout",
     "output_type": "stream",
     "text": [
      "Train score:\n",
      "0.6812462709464477\n",
      "Test score:\n",
      "0.40404772330285066\n"
     ]
    }
   ],
   "source": [
    "print(\"Train score:\")\n",
    "print(mlr.score(x_train, y_train))\n",
    "\n",
    "print(\"Test score:\")\n",
    "print(mlr.score(x_test, y_test))"
   ]
  },
  {
   "cell_type": "markdown",
   "metadata": {},
   "source": [
    "#### **Plotting actual vs predicted values**\n",
    "On the chart, we are able to see that model give slightly overestimated predictions. "
   ]
  },
  {
   "cell_type": "code",
   "execution_count": 57,
   "metadata": {},
   "outputs": [
    {
     "data": {
      "text/plain": [
       "Text(0.5, 1.0, 'actual vs predicted values')"
      ]
     },
     "execution_count": 57,
     "metadata": {},
     "output_type": "execute_result"
    },
    {
     "data": {
      "image/png": "[encoded data removed]",
      "text/plain": [
       "<Figure size 432x288 with 1 Axes>"
      ]
     },
     "metadata": {},
     "output_type": "display_data"
    }
   ],
   "source": [
    "plt.scatter(x=y_test, y=y_predict)\n",
    "\n",
    "plt.xlabel(\"actual values\")\n",
    "plt.ylabel(\"predicted values\")\n",
    "plt.title(\"actual vs predicted values\")"
   ]
  },
  {
   "cell_type": "markdown",
   "metadata": {},
   "source": [
    "## **Summary**\n",
    "\n",
    "During this project I managed to source the data, discover its structure and clean it, allowing further analysis. <br /> \n",
    "In the process of analysing data I looked at the distribution of prices and relationship between districts and price. <br /> \n",
    "Further more I've inspected the influence of qualitative property aspects and I've built regression model <br /> \n",
    "to understand impact of individual features.\n",
    "\n",
    "Thank you for your time."
   ]
  }
 ],
 "metadata": {
  "interpreter": {
   "hash": "1a9bc99df0359bce16b0c609e604cee8ef3c1347b76e75c90e3c02ffd22e8200"
  },
  "kernelspec": {
   "display_name": "Python 3.10.0 64-bit",
   "language": "python",
   "name": "python3"
  },
  "language_info": {
   "codemirror_mode": {
    "name": "ipython",
    "version": 3
   },
   "file_extension": ".py",
   "mimetype": "text/x-python",
   "name": "python",
   "nbconvert_exporter": "python",
   "pygments_lexer": "ipython3",
   "version": "3.10.0"
  },
  "orig_nbformat": 4
 },
 "nbformat": 4,
 "nbformat_minor": 2
}
